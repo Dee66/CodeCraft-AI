{
 "cells": [
  {
   "cell_type": "markdown",
   "id": "660dc559",
   "metadata": {},
   "source": [
    "## 03 – Integration & Automation\n",
    "\n",
    "🟩 **GOOD:** This notebook demonstrates production-grade integration and automation patterns for CodeCraft AI, following Clean Architecture and AWS-native best practices.\n",
    "\n",
    "### Purpose\n",
    "- Show how to automate AI workflows and integrate with AWS-native services (e.g., S3, Lambda, Step Functions)\n",
    "- Provide reproducible, testable integration experiments for stakeholders and technical reviewers\n",
    "- Serve as a reference for CI/CD, event-driven ML, and operational automation\n",
    "\n",
    "### Prerequisites\n",
    "- The backend API service must be running and accessible at the endpoint specified by `CODECRAFT_API_URL`.\n",
    "- All secrets and config must be injected via environment variables (never hardcoded).\n",
    "- This notebook is a client only; all business logic and data processing are handled by the backend or AWS services.\n",
    "\n",
    "> 🟦 **NOTE:** For local dev, start your FastAPI server with:\n",
    "> `poetry run uvicorn src.adapters.api.main:app --reload`"
   ]
  },
  {
   "cell_type": "markdown",
   "id": "a23aec71",
   "metadata": {},
   "source": [
    "### Environment-Aware Configuration\n",
    "\n",
    "🟦 **NOTE:** All configuration and secrets are injected via environment variables for security and portability. No values are hardcoded."
   ]
  },
  {
   "cell_type": "code",
   "execution_count": 2,
   "id": "90c87055",
   "metadata": {},
   "outputs": [],
   "source": [
    "import os\n",
    "import requests\n",
    "\n",
    "API_URL = os.getenv(\"CODECRAFT_API_URL\", \"http://localhost:8000/query\")\n",
    "API_AUTH_TOKEN = os.getenv(\"CODECRAFT_API_TOKEN\", \"\")\n",
    "API_AUTH_HEADER = os.getenv(\"CODECRAFT_API_AUTH_HEADER\", \"Authorization\")\n",
    "API_AUTH_PREFIX = os.getenv(\"CODECRAFT_API_AUTH_PREFIX\", \"Bearer\")\n",
    "\n",
    "def ask_ai(query: str, top_k: int = 3, extra_payload: dict = None):\n",
    "    payload = {\"query\": query, \"top_k\": top_k}\n",
    "    if extra_payload:\n",
    "        payload.update(extra_payload)\n",
    "    headers = {}\n",
    "    if API_AUTH_TOKEN:\n",
    "        if API_AUTH_PREFIX:\n",
    "            headers[API_AUTH_HEADER] = f\"{API_AUTH_PREFIX} {API_AUTH_TOKEN}\"\n",
    "        else:\n",
    "            headers[API_AUTH_HEADER] = API_AUTH_TOKEN\n",
    "    try:\n",
    "        response = requests.post(API_URL, json=payload, headers=headers, timeout=30)\n",
    "        response.raise_for_status()\n",
    "        return response.json()\n",
    "    except Exception as e:\n",
    "        print(f\"🟥 CRITICAL: API error: {e}\")\n",
    "        return None"
   ]
  },
  {
   "cell_type": "markdown",
   "id": "7795e9a9",
   "metadata": {},
   "source": [
    "### Example: Batch Inference Automation\n",
    "\n",
    "🟩 **GOOD:** Demonstrates how to automate batch queries and store results in S3 (or locally for dev)."
   ]
  },
  {
   "cell_type": "code",
   "execution_count": 3,
   "id": "f0859e9e",
   "metadata": {},
   "outputs": [
    {
     "name": "stdout",
     "output_type": "stream",
     "text": [
      "Batch inference results saved to batch_inference_20250625_172953.json\n"
     ]
    }
   ],
   "source": [
    "import json\n",
    "from datetime import datetime\n",
    "\n",
    "batch_prompts = [\n",
    "    \"Summarize the main features of CodeCraft AI.\",\n",
    "    \"How does CodeCraft AI handle data privacy?\",\n",
    "    \"Describe how CodeCraft AI supports cost optimization in AWS.\"\n",
    "]\n",
    "\n",
    "batch_results = []\n",
    "for prompt in batch_prompts:\n",
    "    result = ask_ai(prompt)\n",
    "    batch_results.append({\"prompt\": prompt, \"result\": result})\n",
    "\n",
    "# 🟦 NOTE: Save results locally; in production, upload to S3 using boto3\n",
    "output_path = f\"batch_inference_{datetime.now().strftime('%Y%m%d_%H%M%S')}.json\"\n",
    "with open(output_path, \"w\", encoding=\"utf-8\") as f:\n",
    "    json.dump(batch_results, f, ensure_ascii=False, indent=2)\n",
    "print(f\"Batch inference results saved to {output_path}\")"
   ]
  },
  {
   "cell_type": "markdown",
   "id": "201752e5",
   "metadata": {},
   "source": [
    "### Example: Event-Driven Automation (AWS Lambda Pattern)\n",
    "\n",
    "🟦 **NOTE:** This cell shows how you might structure a Lambda handler for event-driven AI inference. For real AWS deployment, move this logic to a Lambda function and inject config via environment variables."
   ]
  },
  {
   "cell_type": "code",
   "execution_count": 4,
   "id": "fac8123c",
   "metadata": {},
   "outputs": [
    {
     "name": "stdout",
     "output_type": "stream",
     "text": [
      "{'statusCode': 200, 'body': {'results': []}}\n"
     ]
    }
   ],
   "source": [
    "def lambda_handler(event, context=None):\n",
    "    \"\"\"\n",
    "    Example Lambda handler for AI inference automation.\n",
    "    Expects event['prompt'] and optional event['top_k'].\n",
    "    \"\"\"\n",
    "    prompt = event.get(\"prompt\")\n",
    "    top_k = event.get(\"top_k\", 3)\n",
    "    if not prompt:\n",
    "        return {\"statusCode\": 400, \"body\": \"Missing 'prompt' in event.\"}\n",
    "    result = ask_ai(prompt, top_k=top_k)\n",
    "    return {\"statusCode\": 200, \"body\": result}\n",
    "\n",
    "# 🟦 NOTE: Example local invocation\n",
    "if __name__ == \"__main__\":\n",
    "    test_event = {\"prompt\": \"Summarize the main features of CodeCraft AI.\"}\n",
    "    print(lambda_handler(test_event))"
   ]
  }
 ],
 "metadata": {
  "kernelspec": {
   "display_name": "codecraft-ai-qerOw_l4-py3.11",
   "language": "python",
   "name": "python3"
  },
  "language_info": {
   "codemirror_mode": {
    "name": "ipython",
    "version": 3
   },
   "file_extension": ".py",
   "mimetype": "text/x-python",
   "name": "python",
   "nbconvert_exporter": "python",
   "pygments_lexer": "ipython3",
   "version": "3.11.0"
  }
 },
 "nbformat": 4,
 "nbformat_minor": 5
}
