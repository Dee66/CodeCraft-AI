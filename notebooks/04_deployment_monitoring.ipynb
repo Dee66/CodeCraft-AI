{
 "cells": [
  {
   "cell_type": "markdown",
   "id": "5873f1e4",
   "metadata": {},
   "source": [
    "## 04 – Deployment & Monitoring\n",
    "\n",
    "🟩 **GOOD:** This notebook demonstrates production-grade deployment and monitoring patterns for CodeCraft AI, following Clean Architecture and AWS-native best practices.\n",
    "\n",
    "### Purpose\n",
    "- Show how to deploy AI services using AWS-native tools (SageMaker, Lambda, ECS, etc.)\n",
    "- Demonstrate monitoring, logging, and alerting for operational excellence\n",
    "- Provide reproducible, testable deployment and monitoring workflows for stakeholders and technical reviewers\n",
    "\n",
    "### Prerequisites\n",
    "- AWS account with permissions for SageMaker, Lambda, CloudWatch, and related services\n",
    "- All secrets and config must be injected via environment variables or AWS Secrets Manager/SSM (never hardcoded)\n",
    "- This notebook is a client only; all deployment and monitoring logic is handled by AWS-native services\n",
    "\n",
    "> 🟦 **NOTE:** For local dev, you can simulate deployment steps, but production deployments must use AWS-native CI/CD and monitoring tools."
   ]
  },
  {
   "cell_type": "markdown",
   "id": "27cbb52d",
   "metadata": {},
   "source": [
    "### Environment-Aware Configuration\n",
    "\n",
    "🟦 **NOTE:** All configuration and secrets are injected via environment variables or AWS Secrets Manager/SSM. No values are hardcoded."
   ]
  },
  {
   "cell_type": "code",
   "execution_count": 12,
   "id": "c6d79f43",
   "metadata": {},
   "outputs": [],
   "source": [
    "import os\n",
    "import boto3\n",
    "\n",
    "# 🟦 NOTE: Example environment-aware config for deployment/monitoring\n",
    "AWS_REGION = os.getenv(\"AWS_REGION\")\n",
    "DEPLOYMENT_STACK = os.getenv(\"CODECRAFT_DEPLOYMENT_STACK\", \"dev\")\n",
    "MODEL_NAME = os.getenv(\"CODECRAFT_MODEL_NAME\", \"codecraft-ai-model\")\n",
    "MONITORING_TOPIC_ARN = os.getenv(\"CODECRAFT_MONITORING_TOPIC_ARN\", \"\")\n",
    "\n",
    "session = boto3.Session(region_name=AWS_REGION)\n",
    "sagemaker = session.client(\"sagemaker\")\n",
    "cloudwatch = session.client(\"cloudwatch\")\n",
    "sns = session.client(\"sns\") if MONITORING_TOPIC_ARN else None"
   ]
  },
  {
   "cell_type": "markdown",
   "id": "0e1eae63",
   "metadata": {},
   "source": [
    "### Example: SageMaker Endpoint Status Check\n",
    "\n",
    "🟩 **GOOD:** Use this cell to check the health/status of a SageMaker endpoint."
   ]
  },
  {
   "cell_type": "code",
   "execution_count": 18,
   "id": "45d70461",
   "metadata": {},
   "outputs": [
    {
     "name": "stdout",
     "output_type": "stream",
     "text": [
      "🟥 CRITICAL: SageMaker endpoint 'codecraft-ai-model' not found.\n",
      "🟦 NOTE: This is expected if the endpoint has not been deployed yet, or if you are in a dev environment.\n",
      "🟫 OPS: To proceed, you must:\n",
      "  - Deploy the model as a SageMaker endpoint (see AWS docs or IaC pipeline).\n",
      "  - Or, update MODEL_NAME to match an existing endpoint for this environment.\n",
      "  - Ensure AWS_REGION is set to the correct region.\n",
      "  - Ensure your IAM role has sagemaker:DescribeEndpoint permission.\n",
      "🟪 ARCH: Endpoint naming and region must be consistent across CI/CD, IaC, and runtime config.\n",
      "🟦 NOTE: If you are in dev and have not deployed an endpoint, this is not an error. For production, this is blocking.\n",
      "🟦 NEXT ACTION: If you want to test this workflow, you must first deploy a SageMaker endpoint. You can do this via the AWS Console, CLI, IaC, or (for dev only) using the boto3 example below.\n",
      "\n",
      "🟦 EXAMPLE: Deploy a SageMaker endpoint from a notebook cell (dev only):\n",
      "from boto3 import client\n",
      "sm = client('sagemaker', region_name=AWS_REGION)\n",
      "# Replace 'your-model-name' and 'your-endpoint-name' with real values\n",
      "sm.create_endpoint_config(\n",
      "    EndpointConfigName='your-endpoint-name-config',\n",
      "    ProductionVariants=[{\n",
      "        'VariantName': 'AllTraffic',\n",
      "        'ModelName': 'your-model-name',\n",
      "        'InstanceType': 'ml.m5.large',\n",
      "        'InitialInstanceCount': 1\n",
      "    }]\n",
      ")\n",
      "sm.create_endpoint(\n",
      "    EndpointName='your-endpoint-name',\n",
      "    EndpointConfigName='your-endpoint-name-config'\n",
      ")\n",
      "# 🟨 CAUTION: For production, use CI/CD and IaC, not notebooks.\n"
     ]
    }
   ],
   "source": [
    "def check_sagemaker_endpoint_status(endpoint_name):\n",
    "    \"\"\"\n",
    "    🟩 GOOD: Checks the status of a SageMaker endpoint and provides actionable diagnostics.\n",
    "    🟨 CAUTION: Handles missing or misnamed endpoints gracefully for all environments.\n",
    "    \"\"\"\n",
    "    try:\n",
    "        response = sagemaker.describe_endpoint(EndpointName=endpoint_name)\n",
    "        status = response[\"EndpointStatus\"]\n",
    "        print(f\"🟩 GOOD: SageMaker endpoint '{endpoint_name}' status: {status}\")\n",
    "        return status\n",
    "    except Exception as e:\n",
    "        error_message = str(e)\n",
    "        if \"ValidationException\" in error_message and \"Could not find endpoint\" in error_message:\n",
    "            print(\n",
    "                f\"🟥 CRITICAL: SageMaker endpoint '{endpoint_name}' not found.\\n\"\n",
    "                \"🟦 NOTE: This is expected if the endpoint has not been deployed yet, or if you are in a dev environment.\\n\"\n",
    "                \"🟫 OPS: To proceed, you must:\\n\"\n",
    "                \"  - Deploy the model as a SageMaker endpoint (see AWS docs or IaC pipeline).\\n\"\n",
    "                \"  - Or, update MODEL_NAME to match an existing endpoint for this environment.\\n\"\n",
    "                \"  - Ensure AWS_REGION is set to the correct region.\\n\"\n",
    "                \"  - Ensure your IAM role has sagemaker:DescribeEndpoint permission.\\n\"\n",
    "                \"🟪 ARCH: Endpoint naming and region must be consistent across CI/CD, IaC, and runtime config.\\n\"\n",
    "                \"🟦 NOTE: If you are in dev and have not deployed an endpoint, this is not an error. For production, this is blocking.\\n\"\n",
    "                \"🟦 NEXT ACTION: If you want to test this workflow, you must first deploy a SageMaker endpoint. \"\n",
    "                \"You can do this via the AWS Console, CLI, IaC, or (for dev only) using the boto3 example below.\"\n",
    "            )\n",
    "            # 🟦 NOTE: Example (dev only) - Deploy a minimal endpoint if you have a registered model\n",
    "            print(\n",
    "                \"\\n🟦 EXAMPLE: Deploy a SageMaker endpoint from a notebook cell (dev only):\\n\"\n",
    "                \"from boto3 import client\\n\"\n",
    "                \"sm = client('sagemaker', region_name=AWS_REGION)\\n\"\n",
    "                \"# Replace 'your-model-name' and 'your-endpoint-name' with real values\\n\"\n",
    "                \"sm.create_endpoint_config(\\n\"\n",
    "                \"    EndpointConfigName='your-endpoint-name-config',\\n\"\n",
    "                \"    ProductionVariants=[{\\n\"\n",
    "                \"        'VariantName': 'AllTraffic',\\n\"\n",
    "                \"        'ModelName': 'your-model-name',\\n\"\n",
    "                \"        'InstanceType': 'ml.m5.large',\\n\"\n",
    "                \"        'InitialInstanceCount': 1\\n\"\n",
    "                \"    }]\\n\"\n",
    "                \")\\n\"\n",
    "                \"sm.create_endpoint(\\n\"\n",
    "                \"    EndpointName='your-endpoint-name',\\n\"\n",
    "                \"    EndpointConfigName='your-endpoint-name-config'\\n\"\n",
    "                \")\\n\"\n",
    "                \"# 🟨 CAUTION: For production, use CI/CD and IaC, not notebooks.\"\n",
    "            )\n",
    "            return None\n",
    "        else:\n",
    "            print(f\"🟥 CRITICAL: Unexpected error while checking endpoint status: {e}\")\n",
    "            raise\n",
    "        return None\n",
    "\n",
    "# 🟦 NOTE: Example usage\n",
    "if __name__ == \"__main__\":\n",
    "    try:\n",
    "        check_sagemaker_endpoint_status(MODEL_NAME)\n",
    "    except Exception as exc:\n",
    "        print(f\"🟥 CRITICAL: Deployment/monitoring check failed: {exc}\")"
   ]
  },
  {
   "cell_type": "code",
   "execution_count": 21,
   "id": "3f8fd6e6",
   "metadata": {},
   "outputs": [],
   "source": [
    "# 🟦 NOTE: Example - Deploy a SageMaker endpoint from a notebook cell (dev/test only)\n",
    "import boto3\n",
    "import os\n",
    "\n",
    "def deploy_sagemaker_endpoint(model_name, endpoint_name, instance_type=\"ml.m5.large\"):\n",
    "    \"\"\"\n",
    "    🟩 GOOD: Deploys a SageMaker endpoint for dev/test.\n",
    "    🟨 CAUTION: For production, use CI/CD and IaC (CloudFormation, CDK, Terraform).\n",
    "    \"\"\"\n",
    "    sm = boto3.client(\"sagemaker\", region_name=os.getenv(\"AWS_REGION\"))\n",
    "    try:\n",
    "        # 🟦 NOTE: This assumes a SageMaker model already exists with the given model_name.\n",
    "        sm.create_endpoint_config(\n",
    "            EndpointConfigName=f\"{endpoint_name}-config\",\n",
    "            ProductionVariants=[\n",
    "                {\n",
    "                    \"VariantName\": \"AllTraffic\",\n",
    "                    \"ModelName\": model_name,\n",
    "                    \"InstanceType\": instance_type,\n",
    "                    \"InitialInstanceCount\": 1,\n",
    "                }\n",
    "            ],\n",
    "        )\n",
    "        sm.create_endpoint(\n",
    "            EndpointName=endpoint_name,\n",
    "            EndpointConfigName=f\"{endpoint_name}-config\"\n",
    "        )\n",
    "        print(f\"🟩 GOOD: SageMaker endpoint '{endpoint_name}' deployment initiated.\")\n",
    "    except sm.exceptions.ClientError as e:\n",
    "        print(f\"🟥 CRITICAL: Failed to deploy endpoint: {e}\")\n",
    "    except Exception as e:\n",
    "        print(f\"🟥 CRITICAL: Unexpected error during endpoint deployment: {e}\")\n",
    "\n",
    "# 🟦 NOTE: Example usage (dev/test only)\n",
    "# deploy_sagemaker_endpoint(\"your-sagemaker-model-name\", \"your-endpoint-name\")\n"
   ]
  },
  {
   "cell_type": "markdown",
   "id": "6fa2d620",
   "metadata": {},
   "source": [
    "### Example: CloudWatch Metrics Query\n",
    "\n",
    "🟩 **GOOD:** Use this cell to query CloudWatch metrics for your deployed model or service."
   ]
  },
  {
   "cell_type": "code",
   "execution_count": 22,
   "id": "f4987ace",
   "metadata": {},
   "outputs": [
    {
     "name": "stdout",
     "output_type": "stream",
     "text": [
      "🟩 GOOD: Found 0 invocation datapoints for endpoint 'codecraft-ai-model' in the last 60 minutes.\n"
     ]
    }
   ],
   "source": [
    "def get_cloudwatch_invocations(endpoint_name, minutes=60):\n",
    "    from datetime import datetime, timedelta, timezone\n",
    "    end_time = datetime.now(timezone.utc)\n",
    "    start_time = end_time - timedelta(minutes=minutes)\n",
    "    try:\n",
    "        response = cloudwatch.get_metric_statistics(\n",
    "            Namespace=\"AWS/SageMaker\",\n",
    "            MetricName=\"Invocations\",\n",
    "            Dimensions=[{\"Name\": \"EndpointName\", \"Value\": endpoint_name}],\n",
    "            StartTime=start_time,\n",
    "            EndTime=end_time,\n",
    "            Period=60,\n",
    "            Statistics=[\"Sum\"]\n",
    "        )\n",
    "        datapoints = response.get(\"Datapoints\", [])\n",
    "        print(f\"🟩 GOOD: Found {len(datapoints)} invocation datapoints for endpoint '{endpoint_name}' in the last {minutes} minutes.\")\n",
    "        return datapoints\n",
    "    except Exception as e:\n",
    "        print(f\"🟥 CRITICAL: Failed to get CloudWatch metrics: {e}\")\n",
    "        return []\n",
    "\n",
    "# 🟦 NOTE: Example usage\n",
    "if __name__ == \"__main__\":\n",
    "    get_cloudwatch_invocations(MODEL_NAME)"
   ]
  },
  {
   "cell_type": "markdown",
   "id": "53451306",
   "metadata": {},
   "source": [
    "### Example: Monitoring Alert (SNS Notification)\n",
    "\n",
    "🟦 **NOTE:** Use this cell to send a notification if a critical event or threshold is detected. In production, automate this with CloudWatch Alarms and SNS."
   ]
  },
  {
   "cell_type": "code",
   "execution_count": 23,
   "id": "b47617e7",
   "metadata": {},
   "outputs": [],
   "source": [
    "def send_monitoring_alert(message, subject=\"CodeCraft AI Monitoring Alert\"):\n",
    "    if not sns or not MONITORING_TOPIC_ARN:\n",
    "        print(\"🟦 Diagnostics: SNS not configured. Skipping alert.\")\n",
    "        return\n",
    "    try:\n",
    "        sns.publish(\n",
    "            TopicArn=MONITORING_TOPIC_ARN,\n",
    "            Message=message,\n",
    "            Subject=subject\n",
    "        )\n",
    "        print(f\"🟩 GOOD: Monitoring alert sent to {MONITORING_TOPIC_ARN}\")\n",
    "    except Exception as e:\n",
    "        print(f\"🟥 CRITICAL: Failed to send SNS alert: {e}\")\n",
    "\n",
    "# 🟦 NOTE: Example usage\n",
    "if __name__ == \"__main__\" and MONITORING_TOPIC_ARN:\n",
    "    send_monitoring_alert(\"Test alert from CodeCraft AI deployment monitoring.\")"
   ]
  }
 ],
 "metadata": {
  "kernelspec": {
   "display_name": "codecraft-ai-qerOw_l4-py3.11",
   "language": "python",
   "name": "python3"
  },
  "language_info": {
   "codemirror_mode": {
    "name": "ipython",
    "version": 3
   },
   "file_extension": ".py",
   "mimetype": "text/x-python",
   "name": "python",
   "nbconvert_exporter": "python",
   "pygments_lexer": "ipython3",
   "version": "3.11.0"
  }
 },
 "nbformat": 4,
 "nbformat_minor": 5
}
