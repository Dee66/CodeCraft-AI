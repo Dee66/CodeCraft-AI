{
 "cells": [
  {
   "cell_type": "markdown",
   "id": "712a8354",
   "metadata": {},
   "source": [
    "# CodeCraft AI – Interactive Demo\n",
    "\n",
    "This notebook lets you interact with your deployed AI system via its FastAPI endpoint. Use it to:\n",
    "- Ask questions and view AI responses\n",
    "- Test edge cases and model behavior\n",
    "- Showcase end-to-end integration for portfolio or stakeholder demos\n",
    "\n",
    "> **Note:** Ensure your API is running and accessible (locally or via AWS) before running the cells below."
   ]
  },
  {
   "cell_type": "code",
   "execution_count": 3,
   "id": "0fd36997",
   "metadata": {},
   "outputs": [
    {
     "name": "stdout",
     "output_type": "stream",
     "text": [
      "Status: 200\n",
      "Response: {'results': []}\n"
     ]
    }
   ],
   "source": [
    "# Add this cell at the top or after your setup cells\n",
    "\n",
    "import requests\n",
    "\n",
    "API_URL = \"http://localhost:8000/query\"\n",
    "payload = {\"query\": \"What is CodeCraft AI?\", \"top_k\": 3}\n",
    "\n",
    "response = requests.post(API_URL, json=payload)\n",
    "print(\"Status:\", response.status_code)\n",
    "print(\"Response:\", response.json())"
   ]
  },
  {
   "cell_type": "code",
   "execution_count": 2,
   "id": "6601ef38",
   "metadata": {},
   "outputs": [
    {
     "name": "stdout",
     "output_type": "stream",
     "text": [
      "Running in interactive mode: use the notebook UI for exploration and demos.\n"
     ]
    }
   ],
   "source": [
    "# It is not required for interactive use, but is essential for CI/CD and reproducibility.\n",
    "\n",
    "# To run all code cells and verify outputs in CI/CD, use:\n",
    "#   pytest --nbval notebooks/ai_demo.ipynb\n",
    "# Or, to parameterize and execute with papermill:\n",
    "#   papermill notebooks/ai_demo.ipynb output.ipynb\n",
    "\n",
    "# This cell can also be used to inject test parameters or skip slow/demo-only cells in CI.\n",
    "import os\n",
    "\n",
    "IS_CI = bool(os.getenv(\"CI\", False))\n",
    "if IS_CI:\n",
    "    print(\"Running in CI mode: notebook will be executed and validated automatically.\")\n",
    "else:\n",
    "    print(\"Running in interactive mode: use the notebook UI for exploration and demos.\")\n",
    "\n",
    "# To skip cells in CI, use the following pattern at the top of any cell:\n",
    "# if IS_CI:\n",
    "#     return\n",
    "\n",
    "# For more info, see: https://nbval.readthedocs.io/ and https://papermill.readthedocs.io/"
   ]
  },
  {
   "cell_type": "code",
   "execution_count": null,
   "id": "d568f348",
   "metadata": {},
   "outputs": [],
   "source": [
    "# Configuration: API endpoint URL\n",
    "API_URL = \"http://localhost:8000/api/ask\""
   ]
  },
  {
   "cell_type": "code",
   "execution_count": null,
   "id": "35db1e60",
   "metadata": {},
   "outputs": [],
   "source": [
    "import os\n",
    "from getpass import getpass\n",
    "\n",
    "# Authentication: API Key or JWT\n",
    "API_AUTH_TOKEN = os.getenv(\"CODECRAFT_API_TOKEN\")\n",
    "if not API_AUTH_TOKEN:\n",
    "    print(\"No API token found in environment variable CODECRAFT_API_TOKEN.\")\n",
    "    API_AUTH_TOKEN = getpass(\"Enter your API key or JWT (input hidden): \")\n",
    "\n",
    "API_AUTH_HEADER = \"Authorization\"\n",
    "API_AUTH_PREFIX = (\n",
    "    \"Bearer\"  # Change to \"Token\" or \"\" if your API expects a different scheme\n",
    ")"
   ]
  },
  {
   "cell_type": "code",
   "execution_count": null,
   "id": "5eae303f",
   "metadata": {},
   "outputs": [],
   "source": [
    "import requests\n",
    "from pprint import pprint\n",
    "\n",
    "\n",
    "def ask_ai(question: str, api_url: str = API_URL, extra_payload: dict = None):\n",
    "    payload = {\"question\": question}\n",
    "    if extra_payload:\n",
    "        payload.update(extra_payload)\n",
    "    headers = {}\n",
    "    if API_AUTH_TOKEN:\n",
    "        if API_AUTH_PREFIX:\n",
    "            headers[API_AUTH_HEADER] = f\"{API_AUTH_PREFIX} {API_AUTH_TOKEN}\"\n",
    "        else:\n",
    "            headers[API_AUTH_HEADER] = API_AUTH_TOKEN\n",
    "    try:\n",
    "        response = requests.post(api_url, json=payload, headers=headers, timeout=30)\n",
    "        response.raise_for_status()\n",
    "        return response.json()\n",
    "    except Exception as e:\n",
    "        print(f\"Error: {e}\")\n",
    "        return None"
   ]
  },
  {
   "cell_type": "markdown",
   "id": "bda0af24",
   "metadata": {},
   "source": [
    "## Example: Ask a Question"
   ]
  },
  {
   "cell_type": "code",
   "execution_count": null,
   "id": "871a42b9",
   "metadata": {},
   "outputs": [],
   "source": [
    "question = \"What is the business value of CodeCraft AI?\"\n",
    "result = ask_ai(question)\n",
    "pprint(result)"
   ]
  },
  {
   "cell_type": "markdown",
   "id": "1856ce2e",
   "metadata": {},
   "source": [
    "## Try Your Own Question"
   ]
  },
  {
   "cell_type": "code",
   "execution_count": null,
   "id": "f3cc51e6",
   "metadata": {},
   "outputs": [],
   "source": [
    "# Replace with your own question\n",
    "my_question = \"How does the vector store work?\"\n",
    "my_result = ask_ai(my_question)\n",
    "pprint(my_result)"
   ]
  },
  {
   "cell_type": "markdown",
   "id": "c3822102",
   "metadata": {},
   "source": [
    "---\n",
    "### Advanced: Interactive Widget (Optional)\n",
    "You can use `ipywidgets` for a more interactive demo experience."
   ]
  },
  {
   "cell_type": "code",
   "execution_count": null,
   "id": "d1e28f12",
   "metadata": {},
   "outputs": [],
   "source": [
    "try:\n",
    "    import ipywidgets as widgets\n",
    "    from IPython.display import display, Markdown\n",
    "\n",
    "    def on_ask_clicked(_):\n",
    "        user_q = question_box.value.strip()\n",
    "        if not user_q:\n",
    "            output_box.clear_output()\n",
    "            with output_box:\n",
    "                display(Markdown(\"**Please enter a question.**\"))\n",
    "            return\n",
    "        output_box.clear_output()\n",
    "        with output_box:\n",
    "            display(Markdown(f\"**Question:** {user_q}\"))\n",
    "            response = ask_ai(user_q)\n",
    "            display(Markdown(f\"**Response:** {response}\"))\n",
    "\n",
    "    question_box = widgets.Text(\n",
    "        value=\"\",\n",
    "        placeholder=\"Type your question here\",\n",
    "        description=\"Question:\",\n",
    "        layout=widgets.Layout(width=\"80%\"),\n",
    "    )\n",
    "    ask_button = widgets.Button(description=\"Ask AI\", button_style=\"primary\")\n",
    "    output_box = widgets.Output()\n",
    "    ask_button.on_click(on_ask_clicked)\n",
    "    display(widgets.VBox([question_box, ask_button, output_box]))\n",
    "except ImportError:\n",
    "    print(\n",
    "        \"ipywidgets not installed. Run 'pip install ipywidgets' for interactive demo.\"\n",
    "    )"
   ]
  }
 ],
 "metadata": {
  "kernelspec": {
   "display_name": "venv",
   "language": "python",
   "name": "python3"
  },
  "language_info": {
   "codemirror_mode": {
    "name": "ipython",
    "version": 3
   },
   "file_extension": ".py",
   "mimetype": "text/x-python",
   "name": "python",
   "nbconvert_exporter": "python",
   "pygments_lexer": "ipython3",
   "version": "3.13.3"
  }
 },
 "nbformat": 4,
 "nbformat_minor": 5
}
