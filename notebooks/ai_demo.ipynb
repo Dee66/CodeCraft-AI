{
 "cells": [
  {
   "cell_type": "markdown",
   "id": "712a8354",
   "metadata": {},
   "source": [
    "# CodeCraft AI – Interactive Demo\n",
    "\n",
    "This notebook lets you interact with your deployed AI system via its FastAPI endpoint. Use it to:\n",
    "- Ask questions and view AI responses\n",
    "- Test edge cases and model behavior\n",
    "- Showcase end-to-end integration for portfolio or stakeholder demos\n",
    "\n",
    "> **Note:** Ensure your API is running and accessible (locally or via AWS) before running the cells below."
   ]
  },
  {
   "cell_type": "code",
   "execution_count": 16,
   "id": "0fd36997",
   "metadata": {},
   "outputs": [
    {
     "name": "stdout",
     "output_type": "stream",
     "text": [
      "Status: 200\n",
      "Response: {'results': []}\n"
     ]
    }
   ],
   "source": [
    "import requests\n",
    "\n",
    "API_URL = \"http://localhost:8000/query\"\n",
    "payload = {\"query\": \"What is CodeCraft AI?\", \"top_k\": 3}\n",
    "\n",
    "response = requests.post(API_URL, json=payload)\n",
    "print(\"Status:\", response.status_code)\n",
    "print(\"Response:\", response.json())"
   ]
  },
  {
   "cell_type": "code",
   "execution_count": null,
   "id": "6601ef38",
   "metadata": {},
   "outputs": [
    {
     "name": "stdout",
     "output_type": "stream",
     "text": [
      "Running in interactive mode: use the notebook UI for exploration and demos.\n"
     ]
    }
   ],
   "source": [
    "# It is not required for interactive use, but is essential for CI/CD and reproducibility.\n",
    "\n",
    "# To run all code cells and verify outputs in CI/CD, use:\n",
    "#   pytest --nbval notebooks/ai_demo.ipynb\n",
    "# Or, to parameterize and execute with papermill:\n",
    "#   papermill notebooks/ai_demo.ipynb output.ipynb\n",
    "\n",
    "# This cell can also be used to inject test parameters or skip slow/demo-only cells in CI.\n",
    "import os\n",
    "\n",
    "IS_CI = bool(os.getenv(\"CI\", False))\n",
    "if IS_CI:\n",
    "    print(\"Running in CI mode: notebook will be executed and validated automatically.\")\n",
    "else:\n",
    "    print(\"Running in interactive mode: use the notebook UI for exploration and demos.\")\n"
   ]
  },
  {
   "cell_type": "code",
   "execution_count": 18,
   "id": "d568f348",
   "metadata": {},
   "outputs": [],
   "source": [
    "# Configuration: API endpoint URL\n",
    "API_URL = \"http://localhost:8000/query\""
   ]
  },
  {
   "cell_type": "code",
   "execution_count": 19,
   "id": "35db1e60",
   "metadata": {},
   "outputs": [],
   "source": [
    "import os\n",
    "from getpass import getpass\n",
    "\n",
    "# Authentication: API Key or JWT\n",
    "API_AUTH_TOKEN = \"034a260ebac238abc801bbc4186c277f2b9ef6b5945115a7\"\n",
    "if not API_AUTH_TOKEN:\n",
    "    print(\"No API token found in environment variable CODECRAFT_API_TOKEN.\")\n",
    "    API_AUTH_TOKEN = getpass(\"Enter your API key or JWT (input hidden): \")\n",
    "\n",
    "API_AUTH_HEADER = \"Authorization\"\n",
    "API_AUTH_PREFIX = (\n",
    "    \"Bearer\"  # Change to \"Token\" or \"\" if your API expects a different scheme\n",
    ")"
   ]
  },
  {
   "cell_type": "code",
   "execution_count": 21,
   "id": "5eae303f",
   "metadata": {},
   "outputs": [],
   "source": [
    "import requests\n",
    "from pprint import pprint\n",
    "\n",
    "# 🟦 NOTE:\n",
    "\n",
    "def ask_ai(query: str, api_url: str = API_URL, top_k: int = 3, extra_payload: dict = None):\n",
    "    payload = {\"query\": query, \"top_k\": top_k}\n",
    "    if extra_payload:\n",
    "        payload.update(extra_payload)\n",
    "    headers = {}\n",
    "    if API_AUTH_TOKEN:\n",
    "        if API_AUTH_PREFIX:\n",
    "            headers[API_AUTH_HEADER] = f\"{API_AUTH_PREFIX} {API_AUTH_TOKEN}\"\n",
    "        else:\n",
    "            headers[API_AUTH_HEADER] = API_AUTH_TOKEN\n",
    "    try:\n",
    "        response = requests.post(api_url, json=payload, headers=headers, timeout=30)\n",
    "        response.raise_for_status()\n",
    "        return response.json()\n",
    "    except Exception as e:\n",
    "        print(f\"Error: {e}\")\n",
    "        return None"
   ]
  },
  {
   "cell_type": "markdown",
   "id": "bda0af24",
   "metadata": {},
   "source": [
    "## Example: Ask a Question"
   ]
  },
  {
   "cell_type": "code",
   "execution_count": 22,
   "id": "871a42b9",
   "metadata": {},
   "outputs": [
    {
     "name": "stdout",
     "output_type": "stream",
     "text": [
      "{'results': []}\n"
     ]
    }
   ],
   "source": [
    "question = \"What is the business value of CodeCraft AI?\"\n",
    "result = ask_ai(question)\n",
    "pprint(result)"
   ]
  },
  {
   "cell_type": "markdown",
   "id": "1856ce2e",
   "metadata": {},
   "source": [
    "## Try Your Own Question"
   ]
  },
  {
   "cell_type": "code",
   "execution_count": 23,
   "id": "f3cc51e6",
   "metadata": {},
   "outputs": [
    {
     "name": "stdout",
     "output_type": "stream",
     "text": [
      "{'results': []}\n"
     ]
    }
   ],
   "source": [
    "my_question = \"How does the vector store work?\"\n",
    "my_result = ask_ai(my_question)\n",
    "pprint(my_result)"
   ]
  },
  {
   "cell_type": "markdown",
   "id": "c3822102",
   "metadata": {},
   "source": [
    "---\n",
    "### Advanced: Interactive Widget (Optional)\n",
    "You can use `ipywidgets` for a more interactive demo experience."
   ]
  },
  {
   "cell_type": "markdown",
   "id": "5a690146",
   "metadata": {},
   "source": [
    "# 🟦 Interactive Widgets in Jupyter Notebooks\n",
    "\n",
    "Jupyter notebooks support interactive widgets (like buttons and text boxes) using the `ipywidgets` library.  \n",
    "These widgets let you interact with your code and backend in real time—no need to edit code or rerun cells for each new question.\n",
    "\n",
    "- **How it works:**  \n",
    "  - Type your question in the input box.\n",
    "  - Click the **Ask AI** button.\n",
    "  - The notebook sends your question to the backend API and displays the response below.\n",
    "\n",
    "> 🟩 **GOOD:** This is ideal for demos, rapid prototyping, and stakeholder engagement.\n",
    "\n",
    "---"
   ]
  },
  {
   "cell_type": "code",
   "execution_count": 1,
   "id": "d1e28f12",
   "metadata": {},
   "outputs": [
    {
     "data": {
      "application/vnd.jupyter.widget-view+json": {
       "model_id": "5e3411390471452a9ae0ba5cc6b37927",
       "version_major": 2,
       "version_minor": 0
      },
      "text/plain": [
       "VBox(children=(Text(value='', description='Question:', layout=Layout(width='80%'), placeholder='Type your ques…"
      ]
     },
     "metadata": {},
     "output_type": "display_data"
    }
   ],
   "source": [
    "# 🟦 How to Use This Notebook\n",
    "\n",
    "import sys\n",
    "\n",
    "try:\n",
    "    import ipywidgets as widgets\n",
    "    from IPython.display import display, Markdown, clear_output\n",
    "\n",
    "    def on_ask_clicked(_):\n",
    "        user_q = question_box.value.strip()\n",
    "        output_box.clear_output()\n",
    "        if not user_q:\n",
    "            with output_box:\n",
    "                display(Markdown(\"**Please enter a question.**\"))\n",
    "            return\n",
    "        with output_box:\n",
    "            display(Markdown(f\"**Question:** {user_q}\"))\n",
    "            response = ask_ai(user_q)\n",
    "            if response:\n",
    "                display(Markdown(f\"**Response:** {response}\"))\n",
    "            else:\n",
    "                display(Markdown(\"**No response or error from backend.**\"))\n",
    "\n",
    "    question_box = widgets.Text(\n",
    "        value=\"\",\n",
    "        placeholder=\"Type your question here\",\n",
    "        description=\"Question:\",\n",
    "        layout=widgets.Layout(width=\"80%\"),\n",
    "        style={\"description_width\": \"initial\"},\n",
    "    )\n",
    "    ask_button = widgets.Button(description=\"Ask AI\", button_style=\"primary\")\n",
    "    output_box = widgets.Output()\n",
    "    ask_button.on_click(on_ask_clicked)\n",
    "    display(widgets.VBox([question_box, ask_button, output_box]))\n",
    "except ImportError:\n",
    "    print(\n",
    "        \"🟥 CRITICAL: ipywidgets not installed. Run 'poetry add ipywidgets' or 'pip install ipywidgets' in your environment.\"\n",
    "    )\n",
    "except Exception as e:\n",
    "    print(f\"🟥 CRITICAL: Error initializing widget: {e}\", file=sys.stderr)"
   ]
  }
 ],
 "metadata": {
  "kernelspec": {
   "display_name": "codecraft-ai-qerOw_l4-py3.11",
   "language": "python",
   "name": "python3"
  },
  "language_info": {
   "codemirror_mode": {
    "name": "ipython",
    "version": 3
   },
   "file_extension": ".py",
   "mimetype": "text/x-python",
   "name": "python",
   "nbconvert_exporter": "python",
   "pygments_lexer": "ipython3",
   "version": "3.11.0"
  }
 },
 "nbformat": 4,
 "nbformat_minor": 5
}
