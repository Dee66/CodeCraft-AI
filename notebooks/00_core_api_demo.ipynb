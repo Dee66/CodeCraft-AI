{
 "cells": [
  {
   "cell_type": "markdown",
   "id": "8cf29562-029b-4f2a-aada-9b44103f194c",
   "metadata": {},
   "source": [
    "# 00 – Core API Demo\n",
    "\n",
    "🟩 **GOOD:** This notebook demonstrates secure, production-grade API integration for CodeCraft AI, following Clean Architecture and AWS-native best practices.\n",
    "\n",
    "## Prerequisites\n",
    "- The backend API service must be running and accessible at the endpoint specified by `CODECRAFT_API_URL`.\n",
    "- All secrets and config must be injected via environment variables (never hardcoded).\n",
    "- This notebook is a client only; all business logic and data processing are handled by the backend.\n",
    "\n",
    "> 🟦 **NOTE:** For local dev, start your FastAPI server with:\n",
    "> `poetry run uvicorn src.adapters.api.main:app --reload`"
   ]
  },
  {
   "cell_type": "markdown",
   "id": "c5dff5f8",
   "metadata": {},
   "source": [
    "## Environment-Aware Configuration\n",
    "\n",
    "🟦 **NOTE:** All configuration and secrets are injected via environment variables for security and portability. No values are hardcoded."
   ]
  },
  {
   "cell_type": "code",
   "execution_count": 3,
   "id": "ad51c966",
   "metadata": {},
   "outputs": [],
   "source": [
    "import os\n",
    "import requests\n",
    "\n",
    "API_URL = os.getenv(\"CODECRAFT_API_URL\", \"http://localhost:8000/query\")\n",
    "API_AUTH_TOKEN = os.getenv(\"CODECRAFT_API_TOKEN\", \"\")\n",
    "API_AUTH_HEADER = os.getenv(\"CODECRAFT_API_AUTH_HEADER\", \"Authorization\")\n",
    "API_AUTH_PREFIX = os.getenv(\"CODECRAFT_API_AUTH_PREFIX\", \"Bearer\")\n",
    "\n",
    "def ask_ai(query: str, top_k: int = 3, extra_payload: dict = None):\n",
    "    payload = {\"query\": query, \"top_k\": top_k}\n",
    "    if extra_payload:\n",
    "        payload.update(extra_payload)\n",
    "    headers = {}\n",
    "    if API_AUTH_TOKEN:\n",
    "        if API_AUTH_PREFIX:\n",
    "            headers[API_AUTH_HEADER] = f\"{API_AUTH_PREFIX} {API_AUTH_TOKEN}\"\n",
    "        else:\n",
    "            headers[API_AUTH_HEADER] = API_AUTH_TOKEN\n",
    "    try:\n",
    "        response = requests.post(API_URL, json=payload, headers=headers, timeout=30)\n",
    "        response.raise_for_status()\n",
    "        return response.json()\n",
    "    except Exception as e:\n",
    "        print(f\"🟥 CRITICAL: API error: {e}\")\n",
    "        return None"
   ]
  },
  {
   "cell_type": "markdown",
   "id": "09fd4761",
   "metadata": {},
   "source": [
    "## Example: Ask a Question"
   ]
  },
  {
   "cell_type": "code",
   "execution_count": null,
   "id": "6e4aee7d",
   "metadata": {},
   "outputs": [],
   "source": [
    "from pprint import pprint\n",
    "\n",
    "question = \"What is CodeCraft AI?\"\n",
    "result = ask_ai(question)\n",
    "pprint(result)"
   ]
  },
  {
   "cell_type": "markdown",
   "id": "10955150",
   "metadata": {},
   "source": [
    "## Try Your Own Question"
   ]
  },
  {
   "cell_type": "code",
   "execution_count": null,
   "id": "4fe95d82",
   "metadata": {
    "jupyter": {
     "source_hidden": true
    }
   },
   "outputs": [],
   "source": [
    "my_question = \"How does the vector store work?\"\n",
    "my_result = ask_ai(my_question)\n",
    "pprint(my_result)"
   ]
  },
  {
   "cell_type": "code",
   "execution_count": null,
   "id": "d20a3a26-d5a2-431f-813e-d1922703d7b8",
   "metadata": {},
   "outputs": [],
   "source": []
  }
 ],
 "metadata": {
  "kernelspec": {
   "display_name": "Python 3 (ipykernel)",
   "language": "python",
   "name": "python3"
  },
  "language_info": {
   "codemirror_mode": {
    "name": "ipython",
    "version": 3
   },
   "file_extension": ".py",
   "mimetype": "text/x-python",
   "name": "python",
   "nbconvert_exporter": "python",
   "pygments_lexer": "ipython3",
   "version": "3.11.0"
  }
 },
 "nbformat": 4,
 "nbformat_minor": 5
}
