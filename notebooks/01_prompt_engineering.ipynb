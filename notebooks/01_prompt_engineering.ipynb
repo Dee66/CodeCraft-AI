{
 "cells": [
  {
   "cell_type": "markdown",
   "id": "3a11a496",
   "metadata": {},
   "source": [
    "## 01 – Prompt Engineering\n",
    "\n",
    "🟩 **GOOD:** This notebook demonstrates production-grade prompt engineering workflows for CodeCraft AI, aligned with Clean Architecture and AWS-native best practices.\n",
    "\n",
    "### Purpose\n",
    "- Showcase how prompt design impacts model output, reliability, and business value\n",
    "- Provide reproducible, testable prompt experiments for stakeholders and technical reviewers\n",
    "- Serve as a reference for prompt versioning, evaluation, and operationalization\n",
    "\n",
    "### Prerequisites\n",
    "- The backend API service must be running and accessible at the endpoint specified by `CODECRAFT_API_URL`.\n",
    "- All secrets and config must be injected via environment variables (never hardcoded).\n",
    "- This notebook is a client only; all business logic and data processing are handled by the backend.\n",
    "\n",
    "> 🟦 **NOTE:** For local dev, start your FastAPI server with:\n",
    "> `poetry run uvicorn src.adapters.api.main:app --reload`"
   ]
  },
  {
   "cell_type": "markdown",
   "id": "2169a1f9",
   "metadata": {},
   "source": [
    "### Environment-Aware Configuration\n",
    "\n",
    "🟦 **NOTE:** All configuration and secrets are injected via environment variables for security and portability. No values are hardcoded."
   ]
  },
  {
   "cell_type": "code",
   "execution_count": 1,
   "id": "f2123ed2",
   "metadata": {},
   "outputs": [],
   "source": [
    "import os\n",
    "import requests\n",
    "\n",
    "API_URL = os.getenv(\"CODECRAFT_API_URL\", \"http://localhost:8000/query\")\n",
    "API_AUTH_TOKEN = os.getenv(\"CODECRAFT_API_TOKEN\", \"\")\n",
    "API_AUTH_HEADER = os.getenv(\"CODECRAFT_API_AUTH_HEADER\", \"Authorization\")\n",
    "API_AUTH_PREFIX = os.getenv(\"CODECRAFT_API_AUTH_PREFIX\", \"Bearer\")\n",
    "\n",
    "def ask_ai(query: str, top_k: int = 3, extra_payload: dict = None):\n",
    "    payload = {\"query\": query, \"top_k\": top_k}\n",
    "    if extra_payload:\n",
    "        payload.update(extra_payload)\n",
    "    headers = {}\n",
    "    if API_AUTH_TOKEN:\n",
    "        if API_AUTH_PREFIX:\n",
    "            headers[API_AUTH_HEADER] = f\"{API_AUTH_PREFIX} {API_AUTH_TOKEN}\"\n",
    "        else:\n",
    "            headers[API_AUTH_HEADER] = API_AUTH_TOKEN\n",
    "    try:\n",
    "        response = requests.post(API_URL, json=payload, headers=headers, timeout=30)\n",
    "        response.raise_for_status()\n",
    "        return response.json()\n",
    "    except Exception as e:\n",
    "        print(f\"🟥 CRITICAL: API error: {e}\")\n",
    "        return None"
   ]
  },
  {
   "cell_type": "markdown",
   "id": "9736ef0e",
   "metadata": {},
   "source": [
    "### Prompt Engineering Experiments\n",
    "\n",
    "🟩 **GOOD:** Use this section to compare prompt variants and document their impact on model output."
   ]
  },
  {
   "cell_type": "code",
   "execution_count": 2,
   "id": "8b115145",
   "metadata": {},
   "outputs": [
    {
     "name": "stdout",
     "output_type": "stream",
     "text": [
      "Prompt v1:\n",
      "{'results': []}\n",
      "\n",
      "Prompt v2:\n",
      "{'results': []}\n"
     ]
    }
   ],
   "source": [
    "from pprint import pprint\n",
    "\n",
    "# 🟦 NOTE: Baseline prompt\n",
    "prompt_v1 = \"Summarize the main features of CodeCraft AI.\"\n",
    "result_v1 = ask_ai(prompt_v1)\n",
    "print(\"Prompt v1:\")\n",
    "pprint(result_v1)\n",
    "\n",
    "# 🟩 GOOD: Improved prompt with explicit context\n",
    "prompt_v2 = (\n",
    "    \"You are an AWS-native AI assistant. Summarize the main features of CodeCraft AI for a CTO evaluating enterprise AI platforms.\"\n",
    ")\n",
    "result_v2 = ask_ai(prompt_v2)\n",
    "print(\"\\nPrompt v2:\")\n",
    "pprint(result_v2)"
   ]
  },
  {
   "cell_type": "markdown",
   "id": "1e3ae701",
   "metadata": {},
   "source": [
    "### Try Your Own Prompt"
   ]
  },
  {
   "cell_type": "code",
   "execution_count": 3,
   "id": "fd811d50",
   "metadata": {},
   "outputs": [
    {
     "name": "stdout",
     "output_type": "stream",
     "text": [
      "{'results': []}\n"
     ]
    }
   ],
   "source": [
    "my_prompt = \"Explain how CodeCraft AI ensures security and compliance in AWS environments.\"\n",
    "my_result = ask_ai(my_prompt)\n",
    "pprint(my_result)"
   ]
  }
 ],
 "metadata": {
  "kernelspec": {
   "display_name": "codecraft-ai-qerOw_l4-py3.11",
   "language": "python",
   "name": "python3"
  },
  "language_info": {
   "codemirror_mode": {
    "name": "ipython",
    "version": 3
   },
   "file_extension": ".py",
   "mimetype": "text/x-python",
   "name": "python",
   "nbconvert_exporter": "python",
   "pygments_lexer": "ipython3",
   "version": "3.11.0"
  }
 },
 "nbformat": 4,
 "nbformat_minor": 5
}
