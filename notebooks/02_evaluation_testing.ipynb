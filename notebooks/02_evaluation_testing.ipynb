{
 "cells": [
  {
   "cell_type": "markdown",
   "id": "c9e64385",
   "metadata": {},
   "source": [
    "## 02 – Evaluation & Testing\n",
    "\n",
    "🟩 **GOOD:** This notebook demonstrates production-grade evaluation and testing workflows for CodeCraft AI, aligned with Clean Architecture and AWS-native best practices.\n",
    "\n",
    "### Purpose\n",
    "- Evaluate model and API responses for accuracy, reliability, and business alignment\n",
    "- Provide reproducible, testable evaluation experiments for stakeholders and technical reviewers\n",
    "- Serve as a reference for regression testing, prompt validation, and operational monitoring\n",
    "\n",
    "### Prerequisites\n",
    "- The backend API service must be running and accessible at the endpoint specified by `CODECRAFT_API_URL`.\n",
    "- All secrets and config must be injected via environment variables (never hardcoded).\n",
    "- This notebook is a client only; all business logic and data processing are handled by the backend.\n",
    "\n",
    "> 🟦 **NOTE:** For local dev, start your FastAPI server with:\n",
    "> `poetry run uvicorn src.adapters.api.main:app --reload`"
   ]
  },
  {
   "cell_type": "markdown",
   "id": "5bd62d94",
   "metadata": {},
   "source": [
    "### Environment-Aware Configuration\n",
    "\n",
    "🟦 **NOTE:** All configuration and secrets are injected via environment variables for security and portability. No values are hardcoded."
   ]
  },
  {
   "cell_type": "code",
   "execution_count": 11,
   "id": "f4472e86",
   "metadata": {},
   "outputs": [],
   "source": [
    "import os\n",
    "import requests\n",
    "\n",
    "API_URL = os.getenv(\"CODECRAFT_API_URL\", \"http://localhost:8000/query\")\n",
    "API_AUTH_TOKEN = os.getenv(\"CODECRAFT_API_TOKEN\", \"\")\n",
    "API_AUTH_HEADER = os.getenv(\"CODECRAFT_API_AUTH_HEADER\", \"Authorization\")\n",
    "API_AUTH_PREFIX = os.getenv(\"CODECRAFT_API_AUTH_PREFIX\", \"Bearer\")\n",
    "\n",
    "def ask_ai(query: str, top_k: int = 3, extra_payload: dict = None):\n",
    "    payload = {\"query\": query, \"top_k\": top_k}\n",
    "    if extra_payload:\n",
    "        payload.update(extra_payload)\n",
    "    headers = {}\n",
    "    if API_AUTH_TOKEN:\n",
    "        if API_AUTH_PREFIX:\n",
    "            headers[API_AUTH_HEADER] = f\"{API_AUTH_PREFIX} {API_AUTH_TOKEN}\"\n",
    "        else:\n",
    "            headers[API_AUTH_HEADER] = API_AUTH_TOKEN\n",
    "    try:\n",
    "        response = requests.post(API_URL, json=payload, headers=headers, timeout=30)\n",
    "        response.raise_for_status()\n",
    "        return response.json()\n",
    "    except Exception as e:\n",
    "        print(f\"🟥 CRITICAL: API error: {e}\")\n",
    "        return None"
   ]
  },
  {
   "cell_type": "markdown",
   "id": "1bff8681",
   "metadata": {},
   "source": [
    "### Automated Evaluation Suite\n",
    "\n",
    "🟩 **GOOD:** Use this section to run regression tests and evaluate model responses against expected outputs."
   ]
  },
  {
   "cell_type": "code",
   "execution_count": 12,
   "id": "06dd0fab",
   "metadata": {},
   "outputs": [
    {
     "name": "stdout",
     "output_type": "stream",
     "text": [
      "🟦 Diagnostics: No content returned in response.\n",
      "Test 1: FAIL\n",
      "🟦 Diagnostics: Response text was:\n",
      "\n",
      "🟦 Expected keywords: ['AWS', 'vector', 'scalable', 'secure']\n",
      "{'results': []}\n",
      "🟦 Diagnostics: No content returned in response.\n",
      "Test 2: FAIL\n",
      "🟦 Diagnostics: Response text was:\n",
      "\n",
      "🟦 Expected keywords: ['encryption', 'compliance', 'IAM']\n",
      "{'results': []}\n"
     ]
    }
   ],
   "source": [
    "from pprint import pprint\n",
    "\n",
    "test_cases = [\n",
    "    {\n",
    "        \"prompt\": \"Summarize the main features of CodeCraft AI.\",\n",
    "        \"expected_keywords\": [\"AWS\", \"vector\", \"scalable\", \"secure\"]\n",
    "    },\n",
    "    {\n",
    "        \"prompt\": \"How does CodeCraft AI handle data privacy?\",\n",
    "        \"expected_keywords\": [\"encryption\", \"compliance\", \"IAM\"]\n",
    "    },\n",
    "]\n",
    "\n",
    "def extract_text_from_response(response):\n",
    "    \"\"\"\n",
    "    Extracts concatenated text from all results for robust keyword evaluation.\n",
    "    \"\"\"\n",
    "    if not response or \"results\" not in response or not response[\"results\"]:\n",
    "        return \"\"\n",
    "    # 🟦 NOTE: Assumes each result has a 'content' field.\n",
    "    return \" \".join(str(item.get(\"content\", \"\")) for item in response[\"results\"])\n",
    "\n",
    "def evaluate_response(response, expected_keywords):\n",
    "    \"\"\"\n",
    "    Evaluates if all expected keywords are present in the concatenated response text.\n",
    "    \"\"\"\n",
    "    text = extract_text_from_response(response)\n",
    "    if not text:\n",
    "        print(\"🟦 Diagnostics: No content returned in response.\")\n",
    "        return False\n",
    "    return all(keyword.lower() in text.lower() for keyword in expected_keywords)\n",
    "\n",
    "for i, case in enumerate(test_cases, 1):\n",
    "    result = ask_ai(case[\"prompt\"])\n",
    "    passed = evaluate_response(result, case[\"expected_keywords\"])\n",
    "    print(f\"Test {i}: {'PASS' if passed else 'FAIL'}\")\n",
    "    if not passed:\n",
    "        print(\"🟦 Diagnostics: Response text was:\")\n",
    "        print(extract_text_from_response(result))\n",
    "        print(\"🟦 Expected keywords:\", case[\"expected_keywords\"])\n",
    "    pprint(result)\n"
   ]
  },
  {
   "cell_type": "markdown",
   "id": "33a3d95a",
   "metadata": {},
   "source": [
    "### Manual Evaluation\n",
    "\n",
    "🟦 **NOTE:** Use this cell to manually test new prompts or edge cases."
   ]
  },
  {
   "cell_type": "code",
   "execution_count": 13,
   "id": "e4af2e2f",
   "metadata": {},
   "outputs": [
    {
     "name": "stdout",
     "output_type": "stream",
     "text": [
      "{'results': []}\n"
     ]
    }
   ],
   "source": [
    "my_prompt = \"Describe how CodeCraft AI supports cost optimization in AWS.\"\n",
    "my_result = ask_ai(my_prompt)\n",
    "pprint(my_result)"
   ]
  }
 ],
 "metadata": {
  "kernelspec": {
   "display_name": "codecraft-ai-qerOw_l4-py3.11",
   "language": "python",
   "name": "python3"
  },
  "language_info": {
   "name": "python",
   "version": "3.11.0"
  }
 },
 "nbformat": 4,
 "nbformat_minor": 5
}
